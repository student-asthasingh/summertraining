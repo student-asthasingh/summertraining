{
 "cells": [
  {
   "cell_type": "code",
   "execution_count": 1,
   "id": "1c8dfc18",
   "metadata": {},
   "outputs": [
    {
     "name": "stdout",
     "output_type": "stream",
     "text": [
      "hello\n"
     ]
    }
   ],
   "source": [
    "print(\"hello\")"
   ]
  },
  {
   "cell_type": "code",
   "execution_count": 8,
   "id": "9fbafdf4",
   "metadata": {},
   "outputs": [
    {
     "name": "stdout",
     "output_type": "stream",
     "text": [
      "[1, 2, 3, 4]\n"
     ]
    }
   ],
   "source": [
    "def unique_elements(lst):\n",
    "    seen = set()\n",
    "    unique = []\n",
    "    for item in lst:\n",
    "        if item not in seen:\n",
    "            seen.add(item)\n",
    "            unique.append(item)\n",
    "    return unique\n",
    "print(unique_elements([1, 2, 2, 3, 1, 4, 3]))\n",
    "\n"
   ]
  },
  {
   "cell_type": "code",
   "execution_count": 7,
   "id": "b3d1e773",
   "metadata": {},
   "outputs": [
    {
     "name": "stdout",
     "output_type": "stream",
     "text": [
      "Longest word: programming\n"
     ]
    }
   ],
   "source": [
    "def longest_word(sentence):\n",
    "    words = sentence.split()\n",
    "    longest = ''\n",
    "    for word in words:\n",
    "        if len(word) > len(longest):\n",
    "            longest = word\n",
    "    return longest\n",
    "\n",
    "sentence = \"Python is an amazing programming language\"\n",
    "print(\"Longest word:\", longest_word(sentence))"
   ]
  },
  {
   "cell_type": "code",
   "execution_count": 10,
   "id": "96fe7447",
   "metadata": {},
   "outputs": [
    {
     "name": "stdout",
     "output_type": "stream",
     "text": [
      "[4, 5, 1, 2, 3]\n"
     ]
    }
   ],
   "source": [
    "def rotate_list(lst, k):\n",
    "    if not lst:\n",
    "        return []\n",
    "    k = k % len(lst)  # Handle cases where k > len(lst)\n",
    "    return lst[-k:] + lst[:-k]\n",
    "print(rotate_list([1, 2, 3, 4, 5], 2))\n",
    "\n",
    "\n",
    "\n"
   ]
  },
  {
   "cell_type": "code",
   "execution_count": 11,
   "id": "6aec1cbb",
   "metadata": {},
   "outputs": [
    {
     "name": "stdout",
     "output_type": "stream",
     "text": [
      "10\n"
     ]
    }
   ],
   "source": [
    "def sum_of_digits(num):\n",
    "    return sum(int(digit) for digit in str(abs(num)))\n",
    "print(sum_of_digits(1234))"
   ]
  },
  {
   "cell_type": "code",
   "execution_count": 12,
   "id": "fddcee7b",
   "metadata": {},
   "outputs": [
    {
     "name": "stdout",
     "output_type": "stream",
     "text": [
      "{'h': 1, 'e': 1, 'l': 2, 'o': 1}\n"
     ]
    }
   ],
   "source": [
    "def char_frequency(s):\n",
    "    freq = {}\n",
    "    for char in s:\n",
    "        if char in freq:\n",
    "            freq[char] += 1\n",
    "        else:\n",
    "            freq[char] = 1\n",
    "    return freq\n",
    "print(char_frequency(\"hello\"))"
   ]
  },
  {
   "cell_type": "code",
   "execution_count": 13,
   "id": "395c6716",
   "metadata": {},
   "outputs": [
    {
     "name": "stdout",
     "output_type": "stream",
     "text": [
      "3\n",
      "5\n",
      "6\n",
      "9\n",
      "10\n",
      "12\n",
      "18\n",
      "20\n",
      "21\n",
      "24\n",
      "25\n",
      "27\n",
      "33\n",
      "35\n",
      "36\n",
      "39\n",
      "40\n",
      "42\n",
      "48\n",
      "50\n",
      "51\n",
      "54\n",
      "55\n",
      "57\n",
      "63\n",
      "65\n",
      "66\n",
      "69\n",
      "70\n",
      "72\n",
      "78\n",
      "80\n",
      "81\n",
      "84\n",
      "85\n",
      "87\n",
      "93\n",
      "95\n",
      "96\n",
      "99\n",
      "100\n"
     ]
    }
   ],
   "source": [
    "for i in range(1, 101):\n",
    "    if (i % 3 == 0) ^ (i % 5 == 0):  # XOR: divisible by 3 or 5, but not both\n",
    "        print(i)\n"
   ]
  },
  {
   "cell_type": "code",
   "execution_count": 15,
   "id": "d79e5ecb",
   "metadata": {},
   "outputs": [
    {
     "name": "stdout",
     "output_type": "stream",
     "text": [
      "fun is Python\n"
     ]
    }
   ],
   "source": [
    "def reverse_words(sentence):\n",
    "    words = []\n",
    "    word = ''\n",
    "    \n",
    "    # Manually split the sentence into words\n",
    "    for char in sentence:\n",
    "        if char == ' ':\n",
    "            if word:\n",
    "                words.append(word)\n",
    "                word = ''\n",
    "        else:\n",
    "            word += char\n",
    "    if word:  # Append the last word\n",
    "        words.append(word)\n",
    "\n",
    "    # Manually reverse the list of words\n",
    "    reversed_sentence = ''\n",
    "    for i in range(len(words)-1, -1, -1):\n",
    "        reversed_sentence += words[i]\n",
    "        if i != 0:\n",
    "            reversed_sentence += ' '\n",
    "    \n",
    "    return reversed_sentence\n",
    "print(reverse_words(\"Python is fun\"))\n"
   ]
  },
  {
   "cell_type": "code",
   "execution_count": 17,
   "id": "7f46273d",
   "metadata": {},
   "outputs": [
    {
     "name": "stdout",
     "output_type": "stream",
     "text": [
      "    * \n",
      "   * * \n",
      "  * * * \n",
      " * * * * \n",
      "* * * * * \n"
     ]
    }
   ],
   "source": [
    "def diamond(n):\n",
    "    # Upper half (including middle line)\n",
    "    for i in range(n):\n",
    "        # Print leading spaces\n",
    "        print(' ' * (n - i - 1), end='')\n",
    "        # Print stars with spaces for triangle shape\n",
    "        print('* ' * (i + 1))\n",
    "diamond(5)"
   ]
  },
  {
   "cell_type": "code",
   "execution_count": null,
   "id": "475fc5c0",
   "metadata": {},
   "outputs": [],
   "source": [
    "secret_number = 8  # Set your secret number here\n",
    "\n",
    "while True:\n",
    "    guess = input(\"Guess the number: \")\n",
    "    if guess.isdigit() and int(guess) == secret_number:\n",
    "        print(\"Correct! You guessed it.\")\n",
    "        break\n",
    "    else:\n",
    "        print(\"Wrong, try again.\")\n"
   ]
  },
  {
   "cell_type": "code",
   "execution_count": null,
   "id": "631098b6",
   "metadata": {},
   "outputs": [],
   "source": [
    "def count_consonants(s):\n",
    "    vowels = 'aeiouAEIOU'\n",
    "    count = 0\n",
    "    for char in s:\n",
    "        if char.isalpha() and char not in vowels:\n",
    "            count += 1\n",
    "    return count\n",
    "\n",
    "\n",
    "input_str = \"Hello\"\n",
    "print(\"Number of consonants:\", count_consonants(input_str))\n"
   ]
  },
  {
   "cell_type": "code",
   "execution_count": null,
   "id": "1d7f2538",
   "metadata": {},
   "outputs": [],
   "source": []
  }
 ],
 "metadata": {
  "kernelspec": {
   "display_name": "Python 3 (ipykernel)",
   "language": "python",
   "name": "python3"
  },
  "language_info": {
   "codemirror_mode": {
    "name": "ipython",
    "version": 3
   },
   "file_extension": ".py",
   "mimetype": "text/x-python",
   "name": "python",
   "nbconvert_exporter": "python",
   "pygments_lexer": "ipython3",
   "version": "3.11.3"
  }
 },
 "nbformat": 4,
 "nbformat_minor": 5
}
